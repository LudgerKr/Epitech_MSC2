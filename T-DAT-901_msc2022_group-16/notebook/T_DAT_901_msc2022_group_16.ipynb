{
  "nbformat": 4,
  "nbformat_minor": 0,
  "metadata": {
    "kernelspec": {
      "display_name": "Python 3",
      "language": "python",
      "name": "python3"
    },
    "language_info": {
      "codemirror_mode": {
        "name": "ipython",
        "version": 3
      },
      "file_extension": ".py",
      "mimetype": "text/x-python",
      "name": "python",
      "nbconvert_exporter": "python",
      "pygments_lexer": "ipython3",
      "version": "3.8.5"
    },
    "colab": {
      "name": "T-DAT-901_msc2022_group-16",
      "provenance": [],
      "collapsed_sections": []
    },
    "accelerator": "TPU"
  },
  "cells": [
    {
      "cell_type": "code",
      "metadata": {
        "id": "PQHswSE2Pd2J",
        "colab": {
          "base_uri": "https://localhost:8080/",
          "height": 373
        },
        "outputId": "6d26652b-b3e5-4d1c-c215-8948c1a5eb99"
      },
      "source": [
        "%load_ext autoreload\n",
        "%autoreload 2\n",
        "!pip install turicreate\n",
        "\n",
        "import pandas as pd\n",
        "import time\n",
        "import turicreate as tc\n",
        "from sklearn.model_selection import train_test_split\n",
        "\n",
        "from google.colab import drive\n",
        "drive.mount('/content/shared', force_remount=True)\n",
        "%cp /content/shared/MyDrive/KaDo.csv /content"
      ],
      "execution_count": 1,
      "outputs": [
        {
          "output_type": "error",
          "ename": "ModuleNotFoundError",
          "evalue": "ignored",
          "traceback": [
            "\u001b[0;31m---------------------------------------------------------------------------\u001b[0m",
            "\u001b[0;31mModuleNotFoundError\u001b[0m                       Traceback (most recent call last)",
            "\u001b[0;32m<ipython-input-1-461ecbc9c8af>\u001b[0m in \u001b[0;36m<module>\u001b[0;34m()\u001b[0m\n\u001b[1;32m      4\u001b[0m \u001b[0;32mimport\u001b[0m \u001b[0mpandas\u001b[0m \u001b[0;32mas\u001b[0m \u001b[0mpd\u001b[0m\u001b[0;34m\u001b[0m\u001b[0;34m\u001b[0m\u001b[0m\n\u001b[1;32m      5\u001b[0m \u001b[0;32mimport\u001b[0m \u001b[0mtime\u001b[0m\u001b[0;34m\u001b[0m\u001b[0;34m\u001b[0m\u001b[0m\n\u001b[0;32m----> 6\u001b[0;31m \u001b[0;32mimport\u001b[0m \u001b[0mturicreate\u001b[0m \u001b[0;32mas\u001b[0m \u001b[0mtc\u001b[0m\u001b[0;34m\u001b[0m\u001b[0;34m\u001b[0m\u001b[0m\n\u001b[0m\u001b[1;32m      7\u001b[0m \u001b[0;32mfrom\u001b[0m \u001b[0msklearn\u001b[0m\u001b[0;34m.\u001b[0m\u001b[0mmodel_selection\u001b[0m \u001b[0;32mimport\u001b[0m \u001b[0mtrain_test_split\u001b[0m\u001b[0;34m\u001b[0m\u001b[0;34m\u001b[0m\u001b[0m\n\u001b[1;32m      8\u001b[0m \u001b[0;34m\u001b[0m\u001b[0m\n",
            "\u001b[0;31mModuleNotFoundError\u001b[0m: No module named 'turicreate'",
            "",
            "\u001b[0;31m---------------------------------------------------------------------------\u001b[0;32m\nNOTE: If your import is failing due to a missing package, you can\nmanually install dependencies using either !pip or !apt.\n\nTo view examples of installing some common dependencies, click the\n\"Open Examples\" button below.\n\u001b[0;31m---------------------------------------------------------------------------\u001b[0m\n"
          ],
          "errorDetails": {
            "actions": [
              {
                "action": "open_url",
                "actionText": "Open Examples",
                "url": "/notebooks/snippets/importing_libraries.ipynb"
              }
            ]
          }
        }
      ]
    },
    {
      "cell_type": "code",
      "metadata": {
        "id": "u_HPf3VfPd2V"
      },
      "source": [
        "transactions = pd.read_csv('/content/KaDo.csv', dtype=str)\n",
        "print(transactions)"
      ],
      "execution_count": null,
      "outputs": []
    },
    {
      "cell_type": "code",
      "metadata": {
        "id": "JG6_iTBPPd2Z"
      },
      "source": [
        "data = pd.melt(transactions.set_index('CLI_ID')['LIBELLE'].apply(pd.Series).reset_index(),\n",
        "             id_vars=['CLI_ID'],\n",
        "             value_name='LIBELLE') \\\n",
        "    .dropna().drop(['variable'], axis=1) \\\n",
        "    .groupby(['CLI_ID', 'LIBELLE']) \\\n",
        "    .agg({'LIBELLE': 'count'}) \\\n",
        "    .rename(columns={'LIBELLE': 'purchase_count'}) \\\n",
        "    .reset_index() \\\n",
        "    .rename(columns={'LIBELLE': 'LIBELLE'})"
      ],
      "execution_count": null,
      "outputs": []
    },
    {
      "cell_type": "code",
      "metadata": {
        "id": "aWlCma_WPd2a"
      },
      "source": [
        "print(data.shape)\n",
        "data.head"
      ],
      "execution_count": null,
      "outputs": []
    },
    {
      "cell_type": "code",
      "metadata": {
        "id": "3o3xhiqyPd2c"
      },
      "source": [
        "def create_data_dummy(data):\n",
        "    data_dummy = data.copy()\n",
        "    data_dummy['purchase_dummy'] = 1\n",
        "    return data_dummy\n",
        "    \n",
        "data_dummy = create_data_dummy(data)\n",
        "print(data_dummy)"
      ],
      "execution_count": null,
      "outputs": []
    },
    {
      "cell_type": "code",
      "metadata": {
        "id": "4_kwXhdAPd2d"
      },
      "source": [
        "df_matrix = pd.pivot_table(data, values='purchase_count', index='CLI_ID', columns='LIBELLE')"
      ],
      "execution_count": null,
      "outputs": []
    },
    {
      "cell_type": "code",
      "metadata": {
        "id": "DRFACsclPd2e"
      },
      "source": [
        "df_matrix_norm = (df_matrix-df_matrix.min())/(df_matrix.max()-df_matrix.min())"
      ],
      "execution_count": null,
      "outputs": []
    },
    {
      "cell_type": "code",
      "metadata": {
        "id": "zEQVm7qjPd2h"
      },
      "source": [
        "print(df_matrix_norm)"
      ],
      "execution_count": null,
      "outputs": []
    },
    {
      "cell_type": "code",
      "metadata": {
        "id": "hdQu0AHdPd2i"
      },
      "source": [
        "d = df_matrix_norm.reset_index()\n",
        "d.index.names = ['scaled_purchase_freq']\n",
        "data_norm = pd.melt(d, id_vars=['CLI_ID'], value_name='scaled_purchase_freq')\n",
        "\n",
        "print(data_norm.shape)\n",
        "data_norm.head()"
      ],
      "execution_count": null,
      "outputs": []
    },
    {
      "cell_type": "code",
      "metadata": {
        "id": "UDnEncVBPd2l"
      },
      "source": [
        "def normalize_data(data):\n",
        "    df_matrix = pd.pivot_table(data, values='purchase_count', index='CLI_ID', columns='LIBELLE')\n",
        "    df_matrix_norm = (df_matrix-df_matrix.min())/(df_matrix.max()-df_matrix.min())\n",
        "    d = df_matrix_norm.reset_index()\n",
        "    d.index.names = ['scaled_purchase_freq']\n",
        "    return pd.melt(d, id_vars=['CLI_ID'], value_name='scaled_purchase_freq').dropna()"
      ],
      "execution_count": null,
      "outputs": []
    },
    {
      "cell_type": "code",
      "metadata": {
        "id": "CVtcYNiiPd2m"
      },
      "source": [
        "def split_data(data):\n",
        "    train, test = train_test_split(data, test_size = .2)\n",
        "    train_data = tc.SFrame(train)\n",
        "    test_data = tc.SFrame(test)\n",
        "    return train_data, test_data"
      ],
      "execution_count": null,
      "outputs": []
    },
    {
      "cell_type": "code",
      "metadata": {
        "id": "owCXyWWiPd2m"
      },
      "source": [
        "train_data, test_data = split_data(data)\n",
        "train_data_dummy, test_data_dummy = split_data(data_dummy)\n",
        "train_data_norm, test_data_norm = split_data(data_norm)"
      ],
      "execution_count": null,
      "outputs": []
    },
    {
      "cell_type": "code",
      "metadata": {
        "id": "vIyo0jVsPd2p"
      },
      "source": [
        "# constant variables to define field names include:\n",
        "user_id = 'CLI_ID'\n",
        "item_id = 'LIBELLE'\n",
        "users_to_recommend = list(transactions[user_id])\n",
        "n_rec = 10 # number of items to recommend\n",
        "n_display = 30 # to display the first few rows in an output dataset"
      ],
      "execution_count": null,
      "outputs": []
    },
    {
      "cell_type": "code",
      "metadata": {
        "id": "nzqaYVqnPd2p"
      },
      "source": [
        "def model(train_data, name, user_id, item_id, target, users_to_recommend, n_rec, n_display):\n",
        "    if name == 'popularity':\n",
        "        model = tc.popularity_recommender.create(train_data, user_id=user_id,item_id=item_id, target=target)\n",
        "    elif name == 'cosine':\n",
        "        model = tc.item_similarity_recommender.create(train_data, \n",
        "                                                    user_id=user_id, \n",
        "                                                    item_id=item_id, \n",
        "                                                    target=target, \n",
        "                                                    similarity_type='cosine')\n",
        "    elif name == 'pearson':\n",
        "        model = tc.item_similarity_recommender.create(train_data, \n",
        "                                                    user_id=user_id, \n",
        "                                                    item_id=item_id, \n",
        "                                                    target=target, \n",
        "                                                    similarity_type='pearson')\n",
        "    recom = model.recommend(users=users_to_recommend, k=n_rec)\n",
        "    recom.print_rows(n_display)\n",
        "    return model"
      ],
      "execution_count": null,
      "outputs": []
    },
    {
      "cell_type": "code",
      "metadata": {
        "id": "JgcfwGkePd2q"
      },
      "source": [
        "name = 'popularity'\n",
        "target = 'purchase_count'\n",
        "popularity = model(train_data, name, user_id, item_id, target, users_to_recommend, n_rec, n_display)"
      ],
      "execution_count": null,
      "outputs": []
    },
    {
      "cell_type": "code",
      "metadata": {
        "id": "yS9QReK3Pd2t"
      },
      "source": [
        "name = 'popularity'\n",
        "target = 'purchase_dummy'\n",
        "pop_dummy = model(train_data_dummy, name, user_id, item_id, target, users_to_recommend, n_rec, n_display)"
      ],
      "execution_count": null,
      "outputs": []
    },
    {
      "cell_type": "code",
      "metadata": {
        "id": "TI52luLbPd2u"
      },
      "source": [
        "name = 'popularity'\n",
        "target = 'scaled_purchase_freq'\n",
        "pop_norm = model(train_data_norm, name, user_id, item_id, target, users_to_recommend, n_rec, n_display)"
      ],
      "execution_count": null,
      "outputs": []
    },
    {
      "cell_type": "code",
      "metadata": {
        "id": "44qMNWGOPd2u"
      },
      "source": [
        "#Collaborative Filtering Model\n",
        "name = 'cosine'\n",
        "target = 'purchase_count'\n",
        "cos = model(train_data, name, user_id, item_id, target, users_to_recommend, n_rec, n_display)"
      ],
      "execution_count": null,
      "outputs": []
    },
    {
      "cell_type": "code",
      "source": [
        "name = 'cosine'\n",
        "target = 'purchase_dummy'\n",
        "cos_dummy = model(train_data_dummy, name, user_id, item_id, target, users_to_recommend, n_rec, n_display)"
      ],
      "metadata": {
        "id": "MvTuCXfIRj0G"
      },
      "execution_count": null,
      "outputs": []
    },
    {
      "cell_type": "code",
      "source": [
        "name = 'cosine'\n",
        "target = 'scaled_purchase_freq'\n",
        "cos_norm = model(train_data_norm, name, user_id, item_id, target, users_to_recommend, n_rec, n_display)"
      ],
      "metadata": {
        "id": "dotMDUkkRjv1"
      },
      "execution_count": null,
      "outputs": []
    },
    {
      "cell_type": "code",
      "source": [
        "name = 'pearson'\n",
        "target = 'purchase_count'\n",
        "pear = model(train_data, name, user_id, item_id, target, users_to_recommend, n_rec, n_display)"
      ],
      "metadata": {
        "id": "v3FRjPJ8Ri94"
      },
      "execution_count": null,
      "outputs": []
    },
    {
      "cell_type": "code",
      "source": [
        "name = 'pearson'\n",
        "target = 'purchase_dummy'\n",
        "pear_dummy = model(train_data_dummy, name, user_id, item_id, target, users_to_recommend, n_rec, n_display)"
      ],
      "metadata": {
        "id": "Z3bdfb0ORiuP"
      },
      "execution_count": null,
      "outputs": []
    },
    {
      "cell_type": "code",
      "metadata": {
        "id": "ydNNXcvuPd2x"
      },
      "source": [
        "name = 'pearson'\n",
        "target = 'scaled_purchase_freq'\n",
        "pear_norm = model(train_data_norm, name, user_id, item_id, target, users_to_recommend, n_rec, n_display)"
      ],
      "execution_count": null,
      "outputs": []
    },
    {
      "cell_type": "code",
      "source": [
        "def create_output(model, users_to_recommend, n_rec, print_csv=True):\n",
        "    recomendation = model.recommend(users=users_to_recommend, k=n_rec)\n",
        "    df_rec = recomendation.to_dataframe()\n",
        "    df_rec['recommendedLIBELLE'] = df_rec.groupby([user_id])[item_id] \\\n",
        "        .transform(lambda x: ' | '.join(x.astype(str)))\n",
        "    df_output = df_rec[['CLI_ID', 'recommendedLIBELLE']].drop_duplicates() \\\n",
        "        .sort_values('CLI_ID').set_index('CLI_ID')\n",
        "    if print_csv:\n",
        "        df_output.to_csv('./recommendation.csv')\n",
        "        print(\"An output file can be found in folder with name 'recommendation.csv'\")\n",
        "    return df_output\n",
        "\n",
        "\n",
        "df_output = create_output(pear_norm, users_to_recommend, n_rec, print_csv=True)"
      ],
      "metadata": {
        "id": "_8bwKWmgR0_D"
      },
      "execution_count": null,
      "outputs": []
    },
    {
      "cell_type": "code",
      "source": [
        "def customer_recomendation(customer_id):\n",
        "    if customer_id not in df_output.index:\n",
        "        print('Customer not found.')\n",
        "        return customer_id\n",
        "    return df_output.loc[customer_id]"
      ],
      "metadata": {
        "id": "RdfQkzzjR395"
      },
      "execution_count": null,
      "outputs": []
    }
  ]
}